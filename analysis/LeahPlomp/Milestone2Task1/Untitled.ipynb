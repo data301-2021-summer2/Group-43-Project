{
 "cells": [
  {
   "cell_type": "code",
   "execution_count": 8,
   "id": "726a83d8-8eb3-4307-93a9-a37027d5c153",
   "metadata": {},
   "outputs": [],
   "source": [
    "import pandas as pd\n",
    "import numpy as np\n",
    "import os\n"
   ]
  },
  {
   "cell_type": "code",
   "execution_count": 23,
   "id": "59786554-805a-48c0-858a-1a47e051b179",
   "metadata": {},
   "outputs": [],
   "source": [
    "def load_and_process(project_functions):\n",
    "                     \n",
    "    # Method Chain 1 (Load Data, Rename Columns, Drop Unused Column)\n",
    "\n",
    "    impacts = (pd.read_csv(\"../impacts.csv\")\n",
    "           .rename(columns= {\"Object Name\": \"Asteroid Name\",\n",
    "           \"Period Start\": \"Risk Period Start\", \n",
    "           \"Period End\": \"Risk Period End\",\n",
    "           \"Asteroid Velocity\": \"Asteroid Velocity (Km/s)\",\n",
    "           \"Asteroid Magnitude\": \"Asteroid Apparent Magnitude\"})\n",
    "           .drop(['maximum Torino Scale'], axis=1)\n",
    "     )\n",
    "    \n",
    "    # Method Chain 2 (Sort Values, Index Asteroid Name, Retrieve rows from index)\n",
    "                     \n",
    "    Impacts = (\n",
    "           df\n",
    "          .sort_values(by='Risk Period Start', ascending=True)\n",
    "          .set_index(\"Asteroid Name\") \n",
    "          .loc[0:648]\n",
    "    )\n",
    "   "
   ]
  },
  {
   "cell_type": "code",
   "execution_count": 24,
   "id": "e85c3b01-cb56-45cb-a021-529755390736",
   "metadata": {},
   "outputs": [
    {
     "ename": "NameError",
     "evalue": "name 'impacts' is not defined",
     "output_type": "error",
     "traceback": [
      "\u001b[1;31m---------------------------------------------------------------------------\u001b[0m",
      "\u001b[1;31mNameError\u001b[0m                                 Traceback (most recent call last)",
      "\u001b[1;32m~\\AppData\\Local\\Temp/ipykernel_18612/431733317.py\u001b[0m in \u001b[0;36m<module>\u001b[1;34m\u001b[0m\n\u001b[1;32m----> 1\u001b[1;33m \u001b[0mimpacts\u001b[0m\u001b[1;33m\u001b[0m\u001b[1;33m\u001b[0m\u001b[0m\n\u001b[0m",
      "\u001b[1;31mNameError\u001b[0m: name 'impacts' is not defined"
     ]
    }
   ],
   "source": [
    "impacts"
   ]
  },
  {
   "cell_type": "code",
   "execution_count": null,
   "id": "0f6002c0-fae2-40ec-bf23-5db3c24369b7",
   "metadata": {},
   "outputs": [],
   "source": []
  },
  {
   "cell_type": "code",
   "execution_count": 17,
   "id": "70a57b5d-20d4-4f9f-bd79-f1dd2038fac7",
   "metadata": {},
   "outputs": [],
   "source": [
    "def load_and_process(project_function):\n",
    "                     \n",
    "    # Method Chain 1 (Load Data, Rename Columns, Drop Unused Column)\n",
    "\n",
    "    df = (pd.read_csv(\"../../../Data/Raw/impacts.csv\")\n",
    "           .rename(columns= {\"Object Name\": \"Asteroid Name\",\n",
    "           \"Period Start\": \"Risk Period Start\", \n",
    "           \"Period End\": \"Risk Period End\",\n",
    "           \"Asteroid Velocity\": \"Asteroid Velocity (Km/s)\",\n",
    "           \"Asteroid Magnitude\": \"Asteroid Apparent Magnitude\"})\n",
    "           .drop(['maximum Torino Scale'], axis=1)\n",
    "     )\n",
    "    \n",
    "    # Method Chain 2 (Sort Values, Index Asteroid Name, Retrieve rows from index)\n",
    "                     \n",
    "    df = (\n",
    "           df\n",
    "          .sort_values(by='Risk Period Start', ascending=True)\n",
    "          .loc[0:648]\n",
    "    )\n",
    "    return df"
   ]
  },
  {
   "cell_type": "code",
   "execution_count": 18,
   "id": "ac62a026-16cc-4782-9424-6c1aae8c3187",
   "metadata": {},
   "outputs": [
    {
     "data": {
      "text/plain": [
       "<function __main__.load_and_process(project_function)>"
      ]
     },
     "execution_count": 18,
     "metadata": {},
     "output_type": "execute_result"
    }
   ],
   "source": [
    "load_and_process\n"
   ]
  },
  {
   "cell_type": "code",
   "execution_count": 20,
   "id": "f8fc85bd-2b0e-48cf-8b16-5c6de11a1dce",
   "metadata": {},
   "outputs": [
    {
     "ename": "NameError",
     "evalue": "name 'df' is not defined",
     "output_type": "error",
     "traceback": [
      "\u001b[1;31m---------------------------------------------------------------------------\u001b[0m",
      "\u001b[1;31mNameError\u001b[0m                                 Traceback (most recent call last)",
      "\u001b[1;32m~\\AppData\\Local\\Temp/ipykernel_18612/3481714359.py\u001b[0m in \u001b[0;36m<module>\u001b[1;34m\u001b[0m\n\u001b[1;32m----> 1\u001b[1;33m \u001b[0mload_and_process\u001b[0m\u001b[1;33m(\u001b[0m\u001b[0mdf\u001b[0m\u001b[1;33m(\u001b[0m\u001b[1;33m)\u001b[0m\u001b[1;33m)\u001b[0m\u001b[1;33m\u001b[0m\u001b[1;33m\u001b[0m\u001b[0m\n\u001b[0m",
      "\u001b[1;31mNameError\u001b[0m: name 'df' is not defined"
     ]
    }
   ],
   "source": [
    "load_and_process(df())"
   ]
  },
  {
   "cell_type": "code",
   "execution_count": 21,
   "id": "bac29458-094f-477a-815a-8ad42cd32527",
   "metadata": {},
   "outputs": [
    {
     "ename": "NameError",
     "evalue": "name 'df' is not defined",
     "output_type": "error",
     "traceback": [
      "\u001b[1;31m---------------------------------------------------------------------------\u001b[0m",
      "\u001b[1;31mNameError\u001b[0m                                 Traceback (most recent call last)",
      "\u001b[1;32m~\\AppData\\Local\\Temp/ipykernel_18612/1396537375.py\u001b[0m in \u001b[0;36m<module>\u001b[1;34m\u001b[0m\n\u001b[1;32m----> 1\u001b[1;33m \u001b[0mdf\u001b[0m\u001b[1;33m\u001b[0m\u001b[1;33m\u001b[0m\u001b[0m\n\u001b[0m",
      "\u001b[1;31mNameError\u001b[0m: name 'df' is not defined"
     ]
    }
   ],
   "source": [
    "df"
   ]
  },
  {
   "cell_type": "code",
   "execution_count": 25,
   "id": "5664b04b-66b8-4c71-861d-e1d466e44f45",
   "metadata": {},
   "outputs": [
    {
     "ename": "SyntaxError",
     "evalue": "invalid syntax (Temp/ipykernel_18612/1043320535.py, line 1)",
     "output_type": "error",
     "traceback": [
      "\u001b[1;36m  File \u001b[1;32m\"C:\\Users\\Leah\\AppData\\Local\\Temp/ipykernel_18612/1043320535.py\"\u001b[1;36m, line \u001b[1;32m1\u001b[0m\n\u001b[1;33m    NameError: name 'df' is not defined\u001b[0m\n\u001b[1;37m                    ^\u001b[0m\n\u001b[1;31mSyntaxError\u001b[0m\u001b[1;31m:\u001b[0m invalid syntax\n"
     ]
    }
   ],
   "source": [
    "NameError: name 'df' is not defined"
   ]
  },
  {
   "cell_type": "code",
   "execution_count": null,
   "id": "847da6f4-b442-4b3f-839b-1439fda43223",
   "metadata": {},
   "outputs": [],
   "source": []
  },
  {
   "cell_type": "code",
   "execution_count": 28,
   "id": "e60d7757-d5be-4aed-8614-c4e786159fd9",
   "metadata": {},
   "outputs": [],
   "source": [
    "df=pd.DataFrame([\"../impacts.csv\"])"
   ]
  },
  {
   "cell_type": "code",
   "execution_count": 31,
   "id": "641be507-336d-45a8-a245-e1a8a998e481",
   "metadata": {},
   "outputs": [
    {
     "ename": "TypeError",
     "evalue": "'DataFrame' object is not callable",
     "output_type": "error",
     "traceback": [
      "\u001b[1;31m---------------------------------------------------------------------------\u001b[0m",
      "\u001b[1;31mTypeError\u001b[0m                                 Traceback (most recent call last)",
      "\u001b[1;32m~\\AppData\\Local\\Temp/ipykernel_18612/1497686191.py\u001b[0m in \u001b[0;36m<module>\u001b[1;34m\u001b[0m\n\u001b[1;32m----> 1\u001b[1;33m \u001b[0mtype\u001b[0m\u001b[1;33m(\u001b[0m\u001b[0mdf\u001b[0m\u001b[1;33m(\u001b[0m\u001b[1;33m)\u001b[0m\u001b[1;33m)\u001b[0m\u001b[1;33m\u001b[0m\u001b[1;33m\u001b[0m\u001b[0m\n\u001b[0m",
      "\u001b[1;31mTypeError\u001b[0m: 'DataFrame' object is not callable"
     ]
    }
   ],
   "source": [
    "type(df())"
   ]
  },
  {
   "cell_type": "code",
   "execution_count": null,
   "id": "7285900e-5abe-4fbe-ba9b-df5a0ad327aa",
   "metadata": {},
   "outputs": [],
   "source": []
  }
 ],
 "metadata": {
  "kernelspec": {
   "display_name": "Python 3 (ipykernel)",
   "language": "python",
   "name": "python3"
  },
  "language_info": {
   "codemirror_mode": {
    "name": "ipython",
    "version": 3
   },
   "file_extension": ".py",
   "mimetype": "text/x-python",
   "name": "python",
   "nbconvert_exporter": "python",
   "pygments_lexer": "ipython3",
   "version": "3.8.5"
  }
 },
 "nbformat": 4,
 "nbformat_minor": 5
}

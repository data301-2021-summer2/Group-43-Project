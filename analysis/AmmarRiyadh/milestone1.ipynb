{
 "cells": [
  {
   "cell_type": "code",
   "execution_count": 7,
   "id": "d018380c-b90c-4e88-a125-e982764e46b1",
   "metadata": {},
   "outputs": [
    {
     "data": {
      "text/plain": [
       "<bound method NDFrame.head of                   Object Name  Period Start  Period End  Possible Impacts  \\\n",
       "0                    2006 WP1          2017        2017                 1   \n",
       "1                     2013 YB          2017        2046                23   \n",
       "2                     2008 US          2017        2062                30   \n",
       "3                  2010 VR139          2017        2076                24   \n",
       "4                  2015 ME131          2017        2096                85   \n",
       "..                        ...           ...         ...               ...   \n",
       "678                 2014 KW76          2115        2115                 1   \n",
       "679                   2012 FN          2115        2115                 1   \n",
       "680  101955 Bennu (1999 RQ36)          2175        2199                78   \n",
       "681          410777 (2009 FD)          2185        2198                 7   \n",
       "682           29075 (1950 DA)          2880        2880                 1   \n",
       "\n",
       "     Cumulative Impact Probability  Asteroid Velocity  Asteroid Magnitude  \\\n",
       "0                     5.200000e-09              17.77                28.3   \n",
       "1                     7.600000e-05               8.98                31.4   \n",
       "2                     1.600000e-05              18.33                31.4   \n",
       "3                     2.000000e-07               4.99                26.7   \n",
       "4                     2.300000e-08              19.46                19.2   \n",
       "..                             ...                ...                 ...   \n",
       "678                   2.800000e-07              15.00                28.0   \n",
       "679                   2.300000e-08               3.27                29.2   \n",
       "680                   3.700000e-04               5.99                20.2   \n",
       "681                   1.600000e-03              15.87                22.1   \n",
       "682                   1.200000e-04              14.10                17.6   \n",
       "\n",
       "     Asteroid Diameter (km)  Cumulative Palermo Scale  Maximum Palermo Scale  \\\n",
       "0                     0.007                     -8.31                  -8.31   \n",
       "1                     0.002                     -6.60                  -6.96   \n",
       "2                     0.002                     -6.48                  -6.87   \n",
       "3                     0.016                     -6.83                  -6.95   \n",
       "4                     0.497                     -3.85                  -4.30   \n",
       "..                      ...                       ...                    ...   \n",
       "678                   0.008                     -8.22                  -8.22   \n",
       "679                   0.005                    -10.18                 -10.20   \n",
       "680                   0.490                     -1.71                  -2.32   \n",
       "681                   0.160                     -1.78                  -1.83   \n",
       "682                   1.300                     -1.42                  -1.42   \n",
       "\n",
       "    Maximum Torino Scale  \n",
       "0                      0  \n",
       "1                      0  \n",
       "2                      0  \n",
       "3                      0  \n",
       "4                      0  \n",
       "..                   ...  \n",
       "678                    0  \n",
       "679                    0  \n",
       "680                  (*)  \n",
       "681                  (*)  \n",
       "682                  (*)  \n",
       "\n",
       "[683 rows x 11 columns]>"
      ]
     },
     "execution_count": 7,
     "metadata": {},
     "output_type": "execute_result"
    }
   ],
   "source": [
    "import pandas as pd\n",
    "df = pd.read_csv('/Users/riyad/onedrive/desktop/COSC301/Group-43-Project/data/raw/impacts.csv')\n",
    "df.head\n"
   ]
  },
  {
   "cell_type": "code",
   "execution_count": null,
   "id": "7cb71c96-6f19-4ef5-8276-639065f164a3",
   "metadata": {},
   "outputs": [],
   "source": []
  },
  {
   "cell_type": "code",
   "execution_count": null,
   "id": "9bb9698b-008b-447d-9a65-30ab4db7e55d",
   "metadata": {},
   "outputs": [],
   "source": []
  }
 ],
 "metadata": {
  "kernelspec": {
   "display_name": "Python 3 (ipykernel)",
   "language": "python",
   "name": "python3"
  },
  "language_info": {
   "codemirror_mode": {
    "name": "ipython",
    "version": 3
   },
   "file_extension": ".py",
   "mimetype": "text/x-python",
   "name": "python",
   "nbconvert_exporter": "python",
   "pygments_lexer": "ipython3",
   "version": "3.8.5"
  }
 },
 "nbformat": 4,
 "nbformat_minor": 5
}
